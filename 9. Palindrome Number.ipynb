{
 "cells": [
  {
   "cell_type": "code",
   "execution_count": 59,
   "id": "e877eb4a",
   "metadata": {},
   "outputs": [],
   "source": [
    "class Solution(object):\n",
    "    def isPalindrome(self, x):\n",
    "        \"\"\"\n",
    "        :type x: int\n",
    "        :rtype: bool\n",
    "        \"\"\"\n",
    "        if x < 10:\n",
    "            return True\n",
    "        given = x\n",
    "        grade = 0\n",
    "        while given > 9:\n",
    "            grade += 1\n",
    "            given = given // 10\n",
    "        \n",
    "        given = x\n",
    "        polindrome = 0\n",
    "        \n",
    "        for i in range(grade, 0, -1):\n",
    "            print(i)\n",
    "            last = x % 10\n",
    "            print(\"last\", last)\n",
    "            x = x // 10\n",
    "            print(\"x\", x)\n",
    "            polindrome = polindrome + 10 ** i * last\n",
    "            print(\"polindrome\", polindrome)\n",
    "        polindrome = polindrome + x\n",
    "        print(\"result\", polindrome)\n",
    "        # 1 2 3\n",
    "        # 3\n",
    "        if polindrome == given:\n",
    "            return True\n",
    "        return False\n",
    "        "
   ]
  },
  {
   "cell_type": "code",
   "execution_count": 60,
   "id": "ba13a8aa",
   "metadata": {},
   "outputs": [
    {
     "name": "stdout",
     "output_type": "stream",
     "text": [
      "2\n",
      "last 3\n",
      "x 12\n",
      "polindrome 300\n",
      "1\n",
      "last 2\n",
      "x 1\n",
      "polindrome 320\n",
      "result 321\n"
     ]
    },
    {
     "data": {
      "text/plain": [
       "False"
      ]
     },
     "execution_count": 60,
     "metadata": {},
     "output_type": "execute_result"
    }
   ],
   "source": [
    "s = Solution()\n",
    "s.isPalindrome(123)"
   ]
  },
  {
   "cell_type": "code",
   "execution_count": 61,
   "id": "8e8f21a3",
   "metadata": {},
   "outputs": [
    {
     "data": {
      "text/plain": [
       "True"
      ]
     },
     "execution_count": 61,
     "metadata": {},
     "output_type": "execute_result"
    }
   ],
   "source": [
    "s = Solution()\n",
    "s.isPalindrome(-121)"
   ]
  },
  {
   "cell_type": "code",
   "execution_count": 64,
   "id": "2c53f414",
   "metadata": {},
   "outputs": [
    {
     "name": "stdout",
     "output_type": "stream",
     "text": [
      "2\n",
      "last 1\n",
      "x 11\n",
      "polindrome 100\n",
      "1\n",
      "last 1\n",
      "x 1\n",
      "polindrome 110\n",
      "result 111\n"
     ]
    },
    {
     "data": {
      "text/plain": [
       "True"
      ]
     },
     "execution_count": 64,
     "metadata": {},
     "output_type": "execute_result"
    }
   ],
   "source": [
    "s = Solution()\n",
    "s.isPalindrome(111)"
   ]
  },
  {
   "cell_type": "code",
   "execution_count": null,
   "id": "f667634b",
   "metadata": {},
   "outputs": [],
   "source": []
  }
 ],
 "metadata": {
  "kernelspec": {
   "display_name": "Python 3 (ipykernel)",
   "language": "python",
   "name": "python3"
  },
  "language_info": {
   "codemirror_mode": {
    "name": "ipython",
    "version": 3
   },
   "file_extension": ".py",
   "mimetype": "text/x-python",
   "name": "python",
   "nbconvert_exporter": "python",
   "pygments_lexer": "ipython3",
   "version": "3.9.13"
  }
 },
 "nbformat": 4,
 "nbformat_minor": 5
}
