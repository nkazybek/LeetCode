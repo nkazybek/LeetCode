{
 "cells": [
  {
   "cell_type": "code",
   "execution_count": 122,
   "id": "eedfcd9b",
   "metadata": {},
   "outputs": [],
   "source": [
    "class Solution(object):\n",
    "    def maxSubsequence(self, nums, k):\n",
    "        \"\"\"\n",
    "        :type nums: List[int]\n",
    "        :type k: int\n",
    "        :rtype: List[int]\n",
    "        \"\"\"\n",
    "        \n",
    "        given = nums[:] #copy of the list, to compare, because original one poped\n",
    "        maxNumbers = [] #stores k maxNumbers from nums\n",
    "        value = [] \n",
    "        \n",
    "        for i in range(k):\n",
    "            maxNumber = max(nums);\n",
    "            maxNumbers.append(maxNumber)\n",
    "            for j in range(len(nums)):\n",
    "                if nums[j] == maxNumber:\n",
    "                    nums.pop(j)\n",
    "                    break\n",
    "                    \n",
    "                    \n",
    "        for i in range(len(given)):\n",
    "            j = 0\n",
    "            while j < len(maxNumbers):\n",
    "                if given[i] == maxNumbers[j]:\n",
    "                    value.append(maxNumbers[j])\n",
    "                    maxNumbers.pop(j)\n",
    "                    break\n",
    "                j += 1\n",
    "        \n",
    "        return value\n",
    "        # 1 2 3 3\n",
    "        # 0 1 2 3 \n",
    "        # len 4\n",
    "        # k 2 \n",
    "        # "
   ]
  },
  {
   "cell_type": "code",
   "execution_count": 123,
   "id": "73890a54",
   "metadata": {},
   "outputs": [
    {
     "data": {
      "text/plain": [
       "[3, 3]"
      ]
     },
     "execution_count": 123,
     "metadata": {},
     "output_type": "execute_result"
    }
   ],
   "source": [
    "nums = [2,1,3,3]\n",
    "k = 2\n",
    "s = Solution()\n",
    "s.maxSubsequence(nums, k)"
   ]
  },
  {
   "cell_type": "code",
   "execution_count": 124,
   "id": "06932329",
   "metadata": {},
   "outputs": [
    {
     "data": {
      "text/plain": [
       "[-1, 3, 4]"
      ]
     },
     "execution_count": 124,
     "metadata": {},
     "output_type": "execute_result"
    }
   ],
   "source": [
    "nums = [-1,-2,3,4]\n",
    "k = 3\n",
    "s = Solution()\n",
    "s.maxSubsequence(nums, k)"
   ]
  },
  {
   "cell_type": "code",
   "execution_count": 125,
   "id": "0867f730",
   "metadata": {},
   "outputs": [
    {
     "data": {
      "text/plain": [
       "[3, 4]"
      ]
     },
     "execution_count": 125,
     "metadata": {},
     "output_type": "execute_result"
    }
   ],
   "source": [
    "nums = [3,4,3,3]\n",
    "k = 2\n",
    "s = Solution()\n",
    "s.maxSubsequence(nums, k)"
   ]
  },
  {
   "cell_type": "code",
   "execution_count": 126,
   "id": "198d025e",
   "metadata": {},
   "outputs": [
    {
     "data": {
      "text/plain": [
       "[50, -75]"
      ]
     },
     "execution_count": 126,
     "metadata": {},
     "output_type": "execute_result"
    }
   ],
   "source": [
    "nums = [50, -75]\n",
    "k = 2\n",
    "s = Solution()\n",
    "s.maxSubsequence(nums, k)"
   ]
  },
  {
   "cell_type": "code",
   "execution_count": null,
   "id": "2e9fe8de",
   "metadata": {},
   "outputs": [],
   "source": []
  },
  {
   "cell_type": "code",
   "execution_count": null,
   "id": "6e941355",
   "metadata": {},
   "outputs": [],
   "source": []
  }
 ],
 "metadata": {
  "kernelspec": {
   "display_name": "Python 3 (ipykernel)",
   "language": "python",
   "name": "python3"
  },
  "language_info": {
   "codemirror_mode": {
    "name": "ipython",
    "version": 3
   },
   "file_extension": ".py",
   "mimetype": "text/x-python",
   "name": "python",
   "nbconvert_exporter": "python",
   "pygments_lexer": "ipython3",
   "version": "3.9.13"
  }
 },
 "nbformat": 4,
 "nbformat_minor": 5
}
