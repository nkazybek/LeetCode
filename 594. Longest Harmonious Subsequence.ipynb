{
 "cells": [
  {
   "cell_type": "code",
   "execution_count": 163,
   "id": "8c3bec30",
   "metadata": {},
   "outputs": [],
   "source": [
    "class Solution(object):\n",
    "    def findLHS(self, nums):\n",
    "        \"\"\"\n",
    "        :type nums: List[int]\n",
    "        :rtype: int\n",
    "        \"\"\"\n",
    "        result = []\n",
    "        result.append(0)\n",
    "        \n",
    "        \n",
    "        for i in range(1, len(nums)):\n",
    "            current = []\n",
    "            current.append(nums[i])\n",
    "            for j in range(i - 1, -1, -1):\n",
    "                if nums[j] + 1 == max(current) or nums[j] - 1 == min(current) or nums[j] == min(current) or nums[j] == max(current):\n",
    "                    current.append(nums[j])\n",
    "            count = 1\n",
    "            for k in range(1, len(current)):\n",
    "                if current[k] == current[0]:\n",
    "                    count += 1\n",
    "            if count == len(current):\n",
    "                result.append(0)\n",
    "            else:\n",
    "                result.append(len(current))\n",
    "                \n",
    "        print(result)\n",
    "            "
   ]
  },
  {
   "cell_type": "code",
   "execution_count": 164,
   "id": "e8e4dc9f",
   "metadata": {},
   "outputs": [
    {
     "name": "stdout",
     "output_type": "stream",
     "text": [
      "[0, 0, 2, 3, 0, 4, 5, 0]\n"
     ]
    }
   ],
   "source": [
    "nums = [1,3,2,2,5,2,3,7]\n",
    "s = Solution()\n",
    "s.findLHS(nums)"
   ]
  },
  {
   "cell_type": "code",
   "execution_count": 165,
   "id": "5deb43bf",
   "metadata": {},
   "outputs": [
    {
     "name": "stdout",
     "output_type": "stream",
     "text": [
      "[0, 0, 0, 0]\n"
     ]
    }
   ],
   "source": [
    "nums = [1,1,1,1]\n",
    "s = Solution()\n",
    "s.findLHS(nums)"
   ]
  },
  {
   "cell_type": "code",
   "execution_count": 166,
   "id": "9ac4a1b0",
   "metadata": {},
   "outputs": [
    {
     "name": "stdout",
     "output_type": "stream",
     "text": [
      "[0, 2, 2, 2]\n"
     ]
    }
   ],
   "source": [
    "nums = [1,2,3,4]\n",
    "s = Solution()\n",
    "s.findLHS(nums)"
   ]
  },
  {
   "cell_type": "code",
   "execution_count": 167,
   "id": "56d3254c",
   "metadata": {},
   "outputs": [
    {
     "name": "stdout",
     "output_type": "stream",
     "text": [
      "[0, 2, 3, 2, 3, 4, 3, 4, 6, 5, 6]\n"
     ]
    }
   ],
   "source": [
    "nums = [1,2,1,3,0,0,2,2,1,3,3]\n",
    "s = Solution()\n",
    "s.findLHS(nums)"
   ]
  },
  {
   "cell_type": "code",
   "execution_count": 168,
   "id": "180ebe46",
   "metadata": {},
   "outputs": [
    {
     "name": "stdout",
     "output_type": "stream",
     "text": [
      "[0, 2, 3, 4]\n"
     ]
    }
   ],
   "source": [
    "nums = [1,2,2,1]\n",
    "s = Solution()\n",
    "s.findLHS(nums)"
   ]
  },
  {
   "cell_type": "code",
   "execution_count": 169,
   "id": "314f7262",
   "metadata": {},
   "outputs": [
    {
     "name": "stdout",
     "output_type": "stream",
     "text": [
      "[0, 0, 0, 0, 0, 3]\n"
     ]
    }
   ],
   "source": [
    "nums = [-3,-1,-1,-1,-3,-2]\n",
    "s = Solution()\n",
    "s.findLHS(nums)"
   ]
  },
  {
   "cell_type": "code",
   "execution_count": 170,
   "id": "c1fcb0f8",
   "metadata": {},
   "outputs": [
    {
     "name": "stdout",
     "output_type": "stream",
     "text": [
      "[0, 0, 0, 2, 0, 0, 0, 2]\n"
     ]
    }
   ],
   "source": [
    "nums = [1,4,1,3,1,-14,1,-13]\n",
    "s = Solution()\n",
    "s.findLHS(nums)"
   ]
  },
  {
   "cell_type": "code",
   "execution_count": 171,
   "id": "ffabea68",
   "metadata": {},
   "outputs": [
    {
     "name": "stdout",
     "output_type": "stream",
     "text": [
      "[0, 0, 0, 0, 0, 0, 0, 8, 8, 2, 3, 4, 9, 5, 4, 5, 7, 8, 9, 10, 11, 12, 14, 15, 16, 13, 14, 18, 19, 15, 16]\n"
     ]
    }
   ],
   "source": [
    "nums = [2,2,2,2,2,2,2,3,1,0,0,0,3,1,-1,0,1,1,0,0,1,1,2,2,2,0,1,2,2,3,2]\n",
    "s = Solution()\n",
    "s.findLHS(nums)"
   ]
  },
  {
   "cell_type": "code",
   "execution_count": null,
   "id": "80e797fb",
   "metadata": {},
   "outputs": [],
   "source": []
  }
 ],
 "metadata": {
  "kernelspec": {
   "display_name": "Python 3 (ipykernel)",
   "language": "python",
   "name": "python3"
  },
  "language_info": {
   "codemirror_mode": {
    "name": "ipython",
    "version": 3
   },
   "file_extension": ".py",
   "mimetype": "text/x-python",
   "name": "python",
   "nbconvert_exporter": "python",
   "pygments_lexer": "ipython3",
   "version": "3.9.13"
  }
 },
 "nbformat": 4,
 "nbformat_minor": 5
}
