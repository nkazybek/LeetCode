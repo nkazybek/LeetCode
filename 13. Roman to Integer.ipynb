{
 "cells": [
  {
   "cell_type": "code",
   "execution_count": 43,
   "id": "7760966d",
   "metadata": {},
   "outputs": [],
   "source": [
    "class Solution(object):\n",
    "    def romanToInt(self, s):\n",
    "        \"\"\"\n",
    "        :type s: str\n",
    "        :rtype: int\n",
    "        \"\"\"\n",
    "        roman = {\n",
    "            \"I\" : 1,\n",
    "            \"V\" : 5,\n",
    "            \"X\" : 10,\n",
    "            \"L\" : 50,\n",
    "            \"C\" : 100,\n",
    "            \"D\" : 500,\n",
    "            \"M\" : 1000\n",
    "        }\n",
    "        result = 0\n",
    "        i = 0\n",
    "        while i < len(s):\n",
    "            if i + 1 == len(s):\n",
    "                result = result + roman.get(s[i])\n",
    "                break\n",
    "            if roman.get(s[i]) >= roman.get(s[i + 1]):\n",
    "                result = result + roman.get(s[i])\n",
    "            else:\n",
    "                result = result + (roman.get(s[i + 1]) - roman.get(s[i]))\n",
    "                i += 1\n",
    "            i += 1\n",
    "                \n",
    "        return result"
   ]
  },
  {
   "cell_type": "code",
   "execution_count": 44,
   "id": "aca0b92c",
   "metadata": {},
   "outputs": [
    {
     "data": {
      "text/plain": [
       "3"
      ]
     },
     "execution_count": 44,
     "metadata": {},
     "output_type": "execute_result"
    }
   ],
   "source": [
    "s = Solution()\n",
    "s.romanToInt(\"III\")"
   ]
  },
  {
   "cell_type": "code",
   "execution_count": 45,
   "id": "4994f0e4",
   "metadata": {},
   "outputs": [
    {
     "data": {
      "text/plain": [
       "58"
      ]
     },
     "execution_count": 45,
     "metadata": {},
     "output_type": "execute_result"
    }
   ],
   "source": [
    "s = Solution()\n",
    "s.romanToInt(\"LVIII\")"
   ]
  },
  {
   "cell_type": "code",
   "execution_count": 46,
   "id": "4fa996ce",
   "metadata": {},
   "outputs": [
    {
     "data": {
      "text/plain": [
       "1994"
      ]
     },
     "execution_count": 46,
     "metadata": {},
     "output_type": "execute_result"
    }
   ],
   "source": [
    "s = Solution()\n",
    "s.romanToInt(\"MCMXCIV\")"
   ]
  },
  {
   "cell_type": "code",
   "execution_count": null,
   "id": "905c11aa",
   "metadata": {},
   "outputs": [],
   "source": []
  }
 ],
 "metadata": {
  "kernelspec": {
   "display_name": "Python 3 (ipykernel)",
   "language": "python",
   "name": "python3"
  },
  "language_info": {
   "codemirror_mode": {
    "name": "ipython",
    "version": 3
   },
   "file_extension": ".py",
   "mimetype": "text/x-python",
   "name": "python",
   "nbconvert_exporter": "python",
   "pygments_lexer": "ipython3",
   "version": "3.9.13"
  }
 },
 "nbformat": 4,
 "nbformat_minor": 5
}
